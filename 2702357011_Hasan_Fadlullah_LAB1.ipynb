{
  "nbformat": 4,
  "nbformat_minor": 0,
  "metadata": {
    "colab": {
      "provenance": []
    },
    "kernelspec": {
      "name": "python3",
      "display_name": "Python 3"
    },
    "language_info": {
      "name": "python"
    }
  },
  "cells": [
    {
      "cell_type": "markdown",
      "source": [
        "LINK GITHUB: https://github.com/fadilbaf/LAB-1-Scientific-Computing"
      ],
      "metadata": {
        "id": "BbpCGpfjuSk5"
      }
    },
    {
      "cell_type": "code",
      "source": [
        "import time\n",
        "print(time.ctime())"
      ],
      "metadata": {
        "colab": {
          "base_uri": "https://localhost:8080/"
        },
        "id": "FFvIeVf4v83C",
        "outputId": "12647eb9-1398-41f6-f322-9a2055961c63"
      },
      "execution_count": 1,
      "outputs": [
        {
          "output_type": "stream",
          "name": "stdout",
          "text": [
            "Mon Mar 25 17:54:41 2024\n"
          ]
        }
      ]
    },
    {
      "cell_type": "code",
      "source": [
        "import numpy as np\n",
        "x = 1\n",
        "y = x + 1\n",
        "x = 2\n",
        "y"
      ],
      "metadata": {
        "colab": {
          "base_uri": "https://localhost:8080/"
        },
        "id": "R7GxSg7Wv_9Y",
        "outputId": "309e208f-6963-4e82-aeda-93b4b099b4d4"
      },
      "execution_count": 2,
      "outputs": [
        {
          "output_type": "execute_result",
          "data": {
            "text/plain": [
              "2"
            ]
          },
          "metadata": {},
          "execution_count": 2
        }
      ]
    },
    {
      "cell_type": "code",
      "source": [
        "x = [1, 4, 3]\n",
        "y = [[1,4,3], [9,2,7]]\n",
        "\n",
        "print(y[1][2])"
      ],
      "metadata": {
        "colab": {
          "base_uri": "https://localhost:8080/"
        },
        "id": "M_3-b4cRwC9m",
        "outputId": "fb1bb4be-7f3c-4954-bd99-e62cda71a934"
      },
      "execution_count": 3,
      "outputs": [
        {
          "output_type": "stream",
          "name": "stdout",
          "text": [
            "7\n"
          ]
        }
      ]
    },
    {
      "cell_type": "code",
      "source": [
        "import numpy as np\n",
        "y = np.array([1,4,3])\n",
        "y"
      ],
      "metadata": {
        "colab": {
          "base_uri": "https://localhost:8080/"
        },
        "id": "1HGBFRnNwGWc",
        "outputId": "ab13bd47-885f-45f9-b51a-8f1d6244c895"
      },
      "execution_count": 4,
      "outputs": [
        {
          "output_type": "execute_result",
          "data": {
            "text/plain": [
              "array([1, 4, 3])"
            ]
          },
          "metadata": {},
          "execution_count": 4
        }
      ]
    },
    {
      "cell_type": "code",
      "execution_count": null,
      "metadata": {
        "colab": {
          "base_uri": "https://localhost:8080/"
        },
        "id": "MZZjWQ9iKKI_",
        "outputId": "566c9a65-eb9b-411e-f062-2fd52c6e7da2"
      },
      "outputs": [
        {
          "output_type": "execute_result",
          "data": {
            "text/plain": [
              "array([[1, 4, 3],\n",
              "       [9, 2, 7]])"
            ]
          },
          "metadata": {},
          "execution_count": 8
        }
      ],
      "source": [
        "import numpy as np\n",
        "\n",
        "y = np.array([[1, 4, 3], [9, 2, 7]])\n",
        "y"
      ]
    },
    {
      "cell_type": "code",
      "source": [
        "def my_adder(a, b, c):\n",
        "    out = a + b + c\n",
        "    return out"
      ],
      "metadata": {
        "id": "Q7PeXYtUSCuA"
      },
      "execution_count": 5,
      "outputs": []
    },
    {
      "cell_type": "code",
      "source": [
        "my_adder(1, 2, 3)"
      ],
      "metadata": {
        "colab": {
          "base_uri": "https://localhost:8080/"
        },
        "id": "fsI3AGfuSlH0",
        "outputId": "ac45b15e-89f1-41c0-fa21-43bb61be3d7e"
      },
      "execution_count": null,
      "outputs": [
        {
          "output_type": "execute_result",
          "data": {
            "text/plain": [
              "6"
            ]
          },
          "metadata": {},
          "execution_count": 14
        }
      ]
    },
    {
      "cell_type": "code",
      "source": [
        "def my_thermo_stat(temp, desired_temp):\n",
        "    if temp < desired_temp - 5:\n",
        "        status = 'Heat'\n",
        "    elif temp > desired_temp + 5:\n",
        "        status = 'AC'\n",
        "    else:\n",
        "        status = 'off'\n",
        "    return status"
      ],
      "metadata": {
        "id": "CXEuMQoVUC-T"
      },
      "execution_count": null,
      "outputs": []
    },
    {
      "cell_type": "code",
      "source": [
        "status = my_thermo_stat(65,75)\n",
        "print(status)"
      ],
      "metadata": {
        "colab": {
          "base_uri": "https://localhost:8080/"
        },
        "id": "0F-WsxLfU3ML",
        "outputId": "d55e795b-7602-44d6-c3a3-ddec4127db13"
      },
      "execution_count": null,
      "outputs": [
        {
          "output_type": "stream",
          "name": "stdout",
          "text": [
            "Heat\n"
          ]
        }
      ]
    },
    {
      "cell_type": "code",
      "source": [
        "status = my_thermo_stat(75,65)\n",
        "print(status)"
      ],
      "metadata": {
        "colab": {
          "base_uri": "https://localhost:8080/"
        },
        "id": "Wji141RdVbE2",
        "outputId": "4e218572-849d-4609-f36e-0244d78fa5eb"
      },
      "execution_count": null,
      "outputs": [
        {
          "output_type": "stream",
          "name": "stdout",
          "text": [
            "AC\n"
          ]
        }
      ]
    },
    {
      "cell_type": "code",
      "source": [
        "status = my_thermo_stat(65,63)\n",
        "print(status)"
      ],
      "metadata": {
        "colab": {
          "base_uri": "https://localhost:8080/"
        },
        "id": "78RNMezBVjJ-",
        "outputId": "11425b5f-5b4b-4341-85d5-cb2881f832c1"
      },
      "execution_count": null,
      "outputs": [
        {
          "output_type": "stream",
          "name": "stdout",
          "text": [
            "off\n"
          ]
        }
      ]
    },
    {
      "cell_type": "code",
      "source": [
        "x = 3\n",
        "if x>1 and x<2:\n",
        "  y=2\n",
        "elif x>2 and x<4:\n",
        "  y=4\n",
        "else:\n",
        "  y=0\n",
        "print(y)"
      ],
      "metadata": {
        "colab": {
          "base_uri": "https://localhost:8080/"
        },
        "id": "XCN0uYCwXLLe",
        "outputId": "8bb2a5b7-11f0-4109-fcae-739711b5cdd7"
      },
      "execution_count": null,
      "outputs": [
        {
          "output_type": "stream",
          "name": "stdout",
          "text": [
            "4\n"
          ]
        }
      ]
    }
  ]
}